{
  "nbformat": 4,
  "nbformat_minor": 0,
  "metadata": {
    "colab": {
      "provenance": [],
      "include_colab_link": true
    },
    "kernelspec": {
      "name": "python3",
      "display_name": "Python 3"
    },
    "language_info": {
      "name": "python"
    }
  },
  "cells": [
    {
      "cell_type": "markdown",
      "metadata": {
        "id": "view-in-github",
        "colab_type": "text"
      },
      "source": [
        "<a href=\"https://colab.research.google.com/github/zenvius/Numpy_Notes/blob/main/My_Numpy_Notebook.ipynb\" target=\"_parent\"><img src=\"https://colab.research.google.com/assets/colab-badge.svg\" alt=\"Open In Colab\"/></a>"
      ]
    },
    {
      "cell_type": "code",
      "execution_count": null,
      "metadata": {
        "id": "Gg_1iqpCCvaF"
      },
      "outputs": [],
      "source": [
        "#what is Numpy?\n",
        "#it is a core library for scientific computing in python\n",
        "#The central object in numpy is   \"Numpy array's\"\n",
        "#what is numpy array?\n",
        "#Array's are high performance multidimensional objects which is designed specifically to perform maths operations"
      ]
    },
    {
      "cell_type": "code",
      "source": [
        "#How many types of array's?\n",
        "#three types\n",
        "#1D array --> array's with 0 cols and with specific rows\n",
        "#2D array ---> it is like tabular data having rows and cols  with axis 0 and axis 1\n",
        "#3D array ---> multidimesional array's with axis0,axis1,axis2"
      ],
      "metadata": {
        "id": "3ZqbKMyxEhnI"
      },
      "execution_count": null,
      "outputs": []
    },
    {
      "cell_type": "code",
      "source": [
        "#what are all different use cases and mathematical operations that can be acheived easily with Numpy\n",
        "\"\"\" 1. Dot Product/ inner product\n",
        "    2. matrix multiplication\n",
        "    3. element wise matrix product\n",
        "    4. solving the linear systems\n",
        "    5. inverse\n",
        "    6. determinent\n",
        "    7. choose the random number(gussian/uniform distribution)\n",
        "    8. statistics \"\"\""
      ],
      "metadata": {
        "id": "xcz-rLJiGnHs"
      },
      "execution_count": null,
      "outputs": []
    },
    {
      "cell_type": "code",
      "source": [
        "#Installation of Numpy\n",
        "#use PIP --means python pacakage manager\n",
        "! pip install numpy"
      ],
      "metadata": {
        "id": "C-9jog7oHm-t"
      },
      "execution_count": null,
      "outputs": []
    },
    {
      "cell_type": "code",
      "source": [
        "#import the package numpy\n",
        "import numpy as np"
      ],
      "metadata": {
        "id": "6uNLO2AGHpc_"
      },
      "execution_count": null,
      "outputs": []
    },
    {
      "cell_type": "code",
      "source": [
        "#how can we check the version of numpy\n",
        "np.__version__"
      ],
      "metadata": {
        "colab": {
          "base_uri": "https://localhost:8080/",
          "height": 35
        },
        "id": "HiZldiX4Jbr7",
        "outputId": "eaba4374-61c7-4ff4-ccbf-3dfae5a48806"
      },
      "execution_count": null,
      "outputs": [
        {
          "output_type": "execute_result",
          "data": {
            "text/plain": [
              "'1.26.4'"
            ],
            "application/vnd.google.colaboratory.intrinsic+json": {
              "type": "string"
            }
          },
          "metadata": {},
          "execution_count": 2
        }
      ]
    },
    {
      "cell_type": "code",
      "source": [
        "#What is difference between list and numpy array?\n",
        "\"\"\" array:- Array can take homogenous data\n",
        "            Array's are faster than the list becuase these are immutable\n",
        "            Array's are having fixed memory\"\"\""
      ],
      "metadata": {
        "id": "-FesnPvqJjup"
      },
      "execution_count": null,
      "outputs": []
    },
    {
      "cell_type": "code",
      "source": [
        "#array's--> ordered, immutable, also it allows the duplicates"
      ],
      "metadata": {
        "id": "znU4Xrw0KIFd"
      },
      "execution_count": null,
      "outputs": []
    },
    {
      "cell_type": "markdown",
      "source": [
        "**Central object in Numpy is Numpy Array's**"
      ],
      "metadata": {
        "id": "bvnmkyN7KnbS"
      }
    },
    {
      "cell_type": "code",
      "source": [
        "a = np.array([1,2,3,4])\n",
        "print(a)\n",
        "#How can we create an array?\n",
        "#array's are created from existing data(list,tuple,dictionary)\n",
        "#i want to know the shape of the array\n",
        "a.shape\n",
        "#i want to know the element data types in array's\n",
        "a.dtype\n",
        "#i want to know the dimnsions of the array\n",
        "a.ndim\n",
        "#i want to know total number of elements in the array\n",
        "a.size\n",
        "# print(len(a))\n",
        "#i want to know the size in bytes of each element\n",
        "a.itemsize"
      ],
      "metadata": {
        "id": "A62dzOGBKgZE"
      },
      "execution_count": null,
      "outputs": []
    },
    {
      "cell_type": "markdown",
      "source": [
        "**essential methods in NP**"
      ],
      "metadata": {
        "id": "_ukdEpcwM0o7"
      }
    },
    {
      "cell_type": "code",
      "source": [
        "#access and change the elements in the array\n",
        "b = np.array([1,2,3])\n",
        "print(b[1])\n",
        "print(b[::-1])"
      ],
      "metadata": {
        "id": "ij-FaqYeNhW6"
      },
      "execution_count": null,
      "outputs": []
    },
    {
      "cell_type": "code",
      "source": [
        "#By using index position number we can replace the items from array\n",
        "b[0] = 5\n",
        "print(b)"
      ],
      "metadata": {
        "colab": {
          "base_uri": "https://localhost:8080/"
        },
        "id": "50YrWumPN3CS",
        "outputId": "5c32f70f-4a92-49c0-b4f1-f30aef1f230a"
      },
      "execution_count": null,
      "outputs": [
        {
          "output_type": "stream",
          "name": "stdout",
          "text": [
            "[5 2 3]\n"
          ]
        }
      ]
    },
    {
      "cell_type": "markdown",
      "source": [
        "**element wise math operation**"
      ],
      "metadata": {
        "id": "XUofoxi6OM2v"
      }
    },
    {
      "cell_type": "code",
      "source": [
        "c = np.array([2,0,3])\n",
        "print(b + c)\n",
        "#Note:- when applying arthamatic operation on two array's. The arrays has to be in same length or size\n",
        "#Task:- apply all the arthmetic operations\n",
        "#what is vector addition?\n",
        "#when applying addition operator to the array's of same length is known as vector addition."
      ],
      "metadata": {
        "id": "Vgam5gi6OC98"
      },
      "execution_count": null,
      "outputs": []
    },
    {
      "cell_type": "code",
      "source": [
        "#i want to know the sum of elements in an array?\n",
        "d = np.array([5,6,7])\n",
        "print(d)\n",
        "print(d.sum())\n",
        "#i want to know the min element in an array\n",
        "print(d.min())\n",
        "#i want to know the max element in an array\n",
        "print(d.max())"
      ],
      "metadata": {
        "id": "XC1GAz1kPp0I"
      },
      "execution_count": null,
      "outputs": []
    },
    {
      "cell_type": "code",
      "source": [],
      "metadata": {
        "id": "GtiacS_CQPg-"
      },
      "execution_count": null,
      "outputs": []
    },
    {
      "cell_type": "markdown",
      "source": [
        "**Array's Vs List**"
      ],
      "metadata": {
        "id": "jCl0HOuwQO4o"
      }
    },
    {
      "cell_type": "code",
      "source": [
        "l = [1,2,3]\n",
        "#creat an array with above list\n",
        "d = np.array(l)\n",
        "#adding new items to the list\n",
        "l.append(4)\n",
        "# print(l)\n",
        "#add the new item to the array\n",
        "#d.append(5)  #we cannot add the items in an array\n",
        "#How can we add new items in the array\n",
        "#if you want add new item to an array create a new array\n",
        "a1 = d + np.array([6])\n",
        "print(a1)\n",
        "#Note:- when you are adding anoter array to existing array it must be in same size or new array can have 1 element"
      ],
      "metadata": {
        "id": "lANsxGXzQUIz"
      },
      "execution_count": null,
      "outputs": []
    },
    {
      "cell_type": "code",
      "source": [
        "#find the sqrt of the below array\n",
        "a2 = np.array([1,2,3,4,5])\n",
        "print(np.sqrt(a2))"
      ],
      "metadata": {
        "colab": {
          "base_uri": "https://localhost:8080/"
        },
        "id": "29itlhLHSRuV",
        "outputId": "bbb3799e-d976-4b34-b995-b9bfcac3109a"
      },
      "execution_count": null,
      "outputs": [
        {
          "output_type": "stream",
          "name": "stdout",
          "text": [
            "[1.         1.41421356 1.73205081 2.         2.23606798]\n"
          ]
        }
      ]
    },
    {
      "cell_type": "code",
      "source": [
        "a3 = np.append(d,a2)\n",
        "a3\n",
        "#we can use append to create new array and add the elements of two arrays"
      ],
      "metadata": {
        "colab": {
          "base_uri": "https://localhost:8080/"
        },
        "id": "QXeKFKu0TDOh",
        "outputId": "441b2030-8863-4778-a6e3-8628b5501e8e"
      },
      "execution_count": null,
      "outputs": [
        {
          "output_type": "execute_result",
          "data": {
            "text/plain": [
              "array([1, 2, 3, 1, 2, 3, 4, 5])"
            ]
          },
          "metadata": {},
          "execution_count": 29
        }
      ]
    },
    {
      "cell_type": "markdown",
      "source": [
        "**21-11-2024**"
      ],
      "metadata": {
        "id": "todzcwQs2zAj"
      }
    },
    {
      "cell_type": "markdown",
      "source": [
        "Dot Products"
      ],
      "metadata": {
        "id": "nuoqspcY3NCX"
      }
    },
    {
      "cell_type": "code",
      "source": [
        "import numpy as np\n",
        "a = np.array([1,2])\n",
        "b = np.array([3,4])\n",
        "dot = 0\n",
        "for i in range(len(a)):\n",
        "  dot += a[i]*b[i]   #dot = dot + a[i]*b[i]\n",
        "print(dot)\n",
        "#vector multiplication of array's and sum of elements fo the result\n",
        "#multiply each corresponding element and make sum\n"
      ],
      "metadata": {
        "id": "ljeUgPtV23Ip"
      },
      "execution_count": null,
      "outputs": []
    },
    {
      "cell_type": "code",
      "source": [
        "#easy with numpy\n",
        "dot = np.dot(a,b)\n",
        "print(dot)"
      ],
      "metadata": {
        "id": "hhJbJRdn43nA"
      },
      "execution_count": null,
      "outputs": []
    },
    {
      "cell_type": "code",
      "source": [
        "#manual method\n",
        "c = a*b\n",
        "d =np.sum(c)\n",
        "print(d)"
      ],
      "metadata": {
        "id": "G5gw0vbN5Xx0"
      },
      "execution_count": null,
      "outputs": []
    },
    {
      "cell_type": "code",
      "source": [
        "e = a.dot(b)\n",
        "print(e)"
      ],
      "metadata": {
        "id": "Z7ouqtmY5qq1"
      },
      "execution_count": null,
      "outputs": []
    },
    {
      "cell_type": "code",
      "source": [
        "f = a@b\n",
        "print(f)"
      ],
      "metadata": {
        "id": "3NMFRJOM52bz"
      },
      "execution_count": null,
      "outputs": []
    },
    {
      "cell_type": "markdown",
      "source": [
        "**speed test b/w Array vs List**"
      ],
      "metadata": {
        "id": "L7dowU8K6NJ5"
      }
    },
    {
      "cell_type": "code",
      "source": [
        "#import a time calculator to see the variation\n",
        "from timeit import default_timer as timer\n",
        "\n",
        "#create to random array\n",
        "a= np.random.randn(1000)\n",
        "b = np.random.randn(1000)\n",
        "#convert the above array in the form of list\n",
        "c = list(a)\n",
        "d = list(b)\n",
        "T = 1000\n",
        "def dot1():\n",
        "  dot = 0\n",
        "  for i in range(len(c)):\n",
        "    dot += c[i]*d[i] # dot = dot+ c[i]*d[i]\n",
        "  return dot\n",
        "def dot2():\n",
        "  return np.dot(a,b)\n",
        "\n",
        "#take the timer\n",
        "start = timer()\n",
        "for t in range(T):\n",
        "  dot1()\n",
        "end = timer()\n",
        "t1 = end - start\n",
        "\n",
        "start = timer()\n",
        "for t in range(T):\n",
        "  dot2()\n",
        "end = timer()\n",
        "t2 = end - start\n",
        "\n",
        "print(\"time with list\",t1)\n",
        "print(\"time with array\", t2)\n",
        "\n",
        "print(\"ratio\", t1/t2)"
      ],
      "metadata": {
        "colab": {
          "base_uri": "https://localhost:8080/"
        },
        "id": "akkXqsP76UOj",
        "outputId": "e47315ae-fc2a-4103-bb6b-0651949b1631"
      },
      "execution_count": null,
      "outputs": [
        {
          "output_type": "stream",
          "name": "stdout",
          "text": [
            "time with list 0.44084905299996535\n",
            "time with array 0.0029967219998070505\n",
            "ratio 147.11042700268834\n"
          ]
        }
      ]
    },
    {
      "cell_type": "code",
      "source": [
        "s1 = {1,2,3,4}\n",
        "a = np.array(s1)\n",
        "print(a)\n",
        "#we cannot create array from the sets beacuse sets are unordered"
      ],
      "metadata": {
        "id": "eGOIj0MI-cCs"
      },
      "execution_count": null,
      "outputs": []
    },
    {
      "cell_type": "markdown",
      "source": [
        "**Multidimesional array**"
      ],
      "metadata": {
        "id": "IMWBVlnn_g2B"
      }
    },
    {
      "cell_type": "code",
      "source": [
        "a = np.array([[1,2,3],[4,5,6]])\n",
        "print(a)\n",
        "print(a.shape)"
      ],
      "metadata": {
        "colab": {
          "base_uri": "https://localhost:8080/"
        },
        "id": "0W00CVgj-765",
        "outputId": "6fea6593-e1ba-401a-cab2-af39eabf0fd0"
      },
      "execution_count": null,
      "outputs": [
        {
          "output_type": "stream",
          "name": "stdout",
          "text": [
            "[[1 2 3]\n",
            " [4 5 6]]\n",
            "(2, 3)\n"
          ]
        }
      ]
    },
    {
      "cell_type": "code",
      "source": [
        "#how can we access the elements from 2d array\n",
        "#print the entire row?\n",
        "#a[row index number]\n",
        "print(a[0])\n",
        "#How access the particular value from particular column?\n",
        "#[row_index,colindex]\n",
        "print(a[0,1])\n",
        "#access the 6 from above array"
      ],
      "metadata": {
        "colab": {
          "base_uri": "https://localhost:8080/"
        },
        "id": "UWsE2y2HAHbY",
        "outputId": "d723c771-10f2-429a-9e55-203bda6f1d18"
      },
      "execution_count": null,
      "outputs": [
        {
          "output_type": "stream",
          "name": "stdout",
          "text": [
            "[1 2 3]\n",
            "2\n"
          ]
        }
      ]
    },
    {
      "cell_type": "code",
      "source": [
        "b = np.array([[1,2,3],[4,5,6],[7,8,9]])\n",
        "print(b)\n",
        "#how can i print entire values of the 1st column\n",
        "print(b[:,1])"
      ],
      "metadata": {
        "id": "V7w_ixetBcnE"
      },
      "execution_count": null,
      "outputs": []
    },
    {
      "cell_type": "code",
      "source": [
        "#how can i print entire 1st column\n",
        "b[0]\n",
        "b[0,:]"
      ],
      "metadata": {
        "id": "uw9WPOArCPB3"
      },
      "execution_count": null,
      "outputs": []
    },
    {
      "cell_type": "code",
      "source": [
        "b[:1] #first row\n",
        "b[:2] #print 1st    2_ rows"
      ],
      "metadata": {
        "colab": {
          "base_uri": "https://localhost:8080/"
        },
        "id": "QX4wj7d0C1SP",
        "outputId": "5e606f4d-d840-4dc0-dff4-a4edb920136f"
      },
      "execution_count": null,
      "outputs": [
        {
          "output_type": "execute_result",
          "data": {
            "text/plain": [
              "array([[1, 2, 3],\n",
              "       [4, 5, 6]])"
            ]
          },
          "metadata": {},
          "execution_count": 37
        }
      ]
    },
    {
      "cell_type": "code",
      "source": [
        "b[1:] #the values are printing from with given row_index and by default it is printing the entire values\n",
        "b[2:]"
      ],
      "metadata": {
        "id": "cJ--NBu-DO1K"
      },
      "execution_count": null,
      "outputs": []
    },
    {
      "cell_type": "code",
      "source": [
        "a = np.array([[1,2,3],[4,5,6]])\n",
        "#Transpose --> convert rows into columns and columns into rows\n",
        "print(a)\n",
        "print(a.T)"
      ],
      "metadata": {
        "id": "s8T46db4EM8s"
      },
      "execution_count": null,
      "outputs": []
    },
    {
      "cell_type": "code",
      "source": [
        "#Matrix multiplication\n",
        "a = np.array([[1,2],[3,4]])\n",
        "b = np.array([[3,4],[5,6]])\n",
        "#apply dot product on above array's\n",
        "c = np.dot(a,b)\n",
        "#c = a@b\n",
        "print(c)"
      ],
      "metadata": {
        "colab": {
          "base_uri": "https://localhost:8080/"
        },
        "id": "c080_yZsEnAP",
        "outputId": "fa49586c-5d4f-40ae-d888-268efd851127"
      },
      "execution_count": null,
      "outputs": [
        {
          "output_type": "stream",
          "name": "stdout",
          "text": [
            "[[13 16]\n",
            " [29 36]]\n"
          ]
        }
      ]
    },
    {
      "cell_type": "code",
      "source": [
        "#find the inverse of array a\n",
        "a = np.array([[1,2],[3,4]])\n",
        "d = np.linalg.inv(a)\n",
        "print(d)\n",
        "a"
      ],
      "metadata": {
        "colab": {
          "base_uri": "https://localhost:8080/"
        },
        "id": "tG3fEdkTGLar",
        "outputId": "f4d927dd-2474-416f-bd3c-b643131a390a"
      },
      "execution_count": null,
      "outputs": [
        {
          "output_type": "stream",
          "name": "stdout",
          "text": [
            "[[-2.   1. ]\n",
            " [ 1.5 -0.5]]\n"
          ]
        },
        {
          "output_type": "execute_result",
          "data": {
            "text/plain": [
              "array([[1, 2],\n",
              "       [3, 4]])"
            ]
          },
          "metadata": {},
          "execution_count": 43
        }
      ]
    },
    {
      "cell_type": "code",
      "source": [
        "#how can i find the diagonal of array a\n",
        "e = np.diag(a)\n",
        "print(e)"
      ],
      "metadata": {
        "colab": {
          "base_uri": "https://localhost:8080/"
        },
        "id": "QS71zboiGnO-",
        "outputId": "c0486649-2163-4e8d-a6f9-7bd41c72546c"
      },
      "execution_count": null,
      "outputs": [
        {
          "output_type": "stream",
          "name": "stdout",
          "text": [
            "[1 4]\n"
          ]
        }
      ]
    },
    {
      "cell_type": "code",
      "source": [
        "#diagonal on vector returns the matrix\n",
        "c = np.diag([1,4,5])\n",
        "print(c)"
      ],
      "metadata": {
        "id": "dc83ju-nG8ym"
      },
      "execution_count": null,
      "outputs": []
    },
    {
      "cell_type": "markdown",
      "source": [
        "22-11-2024\n",
        "\n",
        "Indexing, and slicing, boolean indexing"
      ],
      "metadata": {
        "id": "DUSR4CAaIP0G"
      }
    },
    {
      "cell_type": "code",
      "source": [
        "import numpy as np\n",
        "a = np.array([[1,2,3,4],[5,6,7,8],[9,10,11,12]])\n",
        "#will give the dimensionality of an array\n",
        "a.ndim\n",
        "print(a)"
      ],
      "metadata": {
        "colab": {
          "base_uri": "https://localhost:8080/"
        },
        "id": "ZSZxZXvBIPQg",
        "outputId": "70b5c5fb-1b5b-4b42-9e25-7aa2a8f8a95a"
      },
      "execution_count": null,
      "outputs": [
        {
          "output_type": "stream",
          "name": "stdout",
          "text": [
            "[[ 1  2  3  4]\n",
            " [ 5  6  7  8]\n",
            " [ 9 10 11 12]]\n"
          ]
        }
      ]
    },
    {
      "cell_type": "code",
      "source": [
        "#how can we print second column all values\n",
        "print(a[:,1]) #printing 1d then how can we print in 2d\n",
        "print(a[0:3,3:4])\n",
        "print(a[:,-1:])"
      ],
      "metadata": {
        "id": "5SdpdFAgJCPh"
      },
      "execution_count": null,
      "outputs": []
    },
    {
      "cell_type": "code",
      "source": [
        "print(a[:,3])"
      ],
      "metadata": {
        "id": "hn-dAmkIJTyB"
      },
      "execution_count": null,
      "outputs": []
    },
    {
      "cell_type": "code",
      "source": [
        "#print only 11\n",
        "print(a[2,2])"
      ],
      "metadata": {
        "id": "Mmwzcz6XJZs_"
      },
      "execution_count": null,
      "outputs": []
    },
    {
      "cell_type": "markdown",
      "source": [
        "**Boolean**"
      ],
      "metadata": {
        "id": "FA7VY0N1LLyD"
      }
    },
    {
      "cell_type": "code",
      "source": [
        "a = np.array([[1,2],[3,4],[5,6]])\n",
        "print(a)"
      ],
      "metadata": {
        "id": "B2Cy2JuPKZau"
      },
      "execution_count": null,
      "outputs": []
    },
    {
      "cell_type": "code",
      "source": [
        "#print the number which is more than 2\n",
        "print(a[a>2])"
      ],
      "metadata": {
        "id": "aCMGB02uLZJt"
      },
      "execution_count": null,
      "outputs": []
    },
    {
      "cell_type": "code",
      "source": [
        "bool_index = a>2\n",
        "print(bool_index)"
      ],
      "metadata": {
        "id": "9vrRSNDWLrOD"
      },
      "execution_count": null,
      "outputs": []
    },
    {
      "cell_type": "code",
      "source": [
        "l = [1,2,3,4]\n",
        "print(l*2)"
      ],
      "metadata": {
        "colab": {
          "base_uri": "https://localhost:8080/"
        },
        "id": "OmytQOhsMxhj",
        "outputId": "8e7e701d-0289-4f2c-e888-9fa7a56f82fa"
      },
      "execution_count": null,
      "outputs": [
        {
          "output_type": "stream",
          "name": "stdout",
          "text": [
            "[1, 2, 3, 4, 1, 2, 3, 4]\n"
          ]
        }
      ]
    },
    {
      "cell_type": "code",
      "source": [
        "b = np.array([1,2,3,4])\n",
        "print(b*2)"
      ],
      "metadata": {
        "colab": {
          "base_uri": "https://localhost:8080/"
        },
        "id": "5TlXZpqiM1vY",
        "outputId": "0c75e3ca-2efe-4d58-c784-210d0047a022"
      },
      "execution_count": null,
      "outputs": [
        {
          "output_type": "stream",
          "name": "stdout",
          "text": [
            "[2 4 6 8]\n"
          ]
        }
      ]
    },
    {
      "cell_type": "code",
      "source": [
        "#np.where(condition,true,flase)\n",
        "a = np.array([[1,2],[3,4],[5,6]])\n",
        "# print(a)\n",
        "c = np.where(a>2,a,-1)\n",
        "print(c)"
      ],
      "metadata": {
        "id": "dMdx7820NE31"
      },
      "execution_count": null,
      "outputs": []
    },
    {
      "cell_type": "code",
      "source": [
        "#compute the indexes where the condition is true\n",
        "#argwhere()\n",
        "a = np.array([10,19,20,30,41,50,61])\n",
        "even = np.argwhere(a%2==0).flatten()\n",
        "print(even)\n",
        "#if you want to see the values\n",
        "a_even = a[even]\n",
        "print(a_even)"
      ],
      "metadata": {
        "colab": {
          "base_uri": "https://localhost:8080/"
        },
        "id": "cktv6bNbOFuu",
        "outputId": "82ba5aee-24b4-4653-ede2-be9f17232c43"
      },
      "execution_count": null,
      "outputs": [
        {
          "output_type": "stream",
          "name": "stdout",
          "text": [
            "[0 2 3 5]\n",
            "[10 20 30 50]\n"
          ]
        }
      ]
    },
    {
      "cell_type": "code",
      "source": [
        "a = np.array([[1,2],[3,4],[5,6]])\n",
        "even = np.argwhere(a%2==0)\n",
        "print(even)\n",
        "a_even = a[even]\n",
        "print(a_even)"
      ],
      "metadata": {
        "id": "nD_9q4I1PY_M"
      },
      "execution_count": null,
      "outputs": []
    },
    {
      "cell_type": "markdown",
      "source": [
        "**Reshaping of Arrays**"
      ],
      "metadata": {
        "id": "Fpda_iGtPPAA"
      }
    },
    {
      "cell_type": "code",
      "source": [
        "#create a range of arrays\n",
        "a = np.arange(10)\n",
        "print(a)"
      ],
      "metadata": {
        "id": "Q5C7WeBNPTaI",
        "colab": {
          "base_uri": "https://localhost:8080/"
        },
        "outputId": "194981f6-db2b-4d04-d75e-11653b6db344"
      },
      "execution_count": null,
      "outputs": [
        {
          "output_type": "stream",
          "name": "stdout",
          "text": [
            "[0 1 2 3 4 5 6 7 8 9]\n"
          ]
        }
      ]
    },
    {
      "cell_type": "code",
      "source": [
        "#print an range number in array from 1,10\n",
        "a = np.arange(1,11)\n",
        "print(a)"
      ],
      "metadata": {
        "id": "zOP3I7oUQbhe",
        "colab": {
          "base_uri": "https://localhost:8080/"
        },
        "outputId": "9d2d454e-9ba6-493f-ba26-9bf1849ed489"
      },
      "execution_count": null,
      "outputs": [
        {
          "output_type": "stream",
          "name": "stdout",
          "text": [
            "[ 1  2  3  4  5  6  7  8  9 10]\n"
          ]
        }
      ]
    },
    {
      "cell_type": "code",
      "source": [
        "#reshae the above array into 3 rows and 3 columns\n",
        "b = a.reshape(5,2)  #reshape(row,col)\n",
        "print(b)"
      ],
      "metadata": {
        "colab": {
          "base_uri": "https://localhost:8080/"
        },
        "id": "lNH5R3FfQwc1",
        "outputId": "2a907ef7-ebf3-48ab-b4e2-81c33040bbfb"
      },
      "execution_count": null,
      "outputs": [
        {
          "output_type": "stream",
          "name": "stdout",
          "text": [
            "[[ 1  2]\n",
            " [ 3  4]\n",
            " [ 5  6]\n",
            " [ 7  8]\n",
            " [ 9 10]]\n"
          ]
        }
      ]
    },
    {
      "cell_type": "markdown",
      "source": [
        "25-11-2024"
      ],
      "metadata": {
        "id": "TkTL_5CLcOQu"
      }
    },
    {
      "cell_type": "code",
      "source": [
        "#generate a rangfe of array upto 6\n",
        "import numpy as np\n",
        "a = np.arange(1,7)\n",
        "print(a)"
      ],
      "metadata": {
        "colab": {
          "base_uri": "https://localhost:8080/"
        },
        "id": "vsyppqqmcQT_",
        "outputId": "10a1ee6d-7499-4b53-9c51-5820aa3a07e5"
      },
      "execution_count": null,
      "outputs": [
        {
          "output_type": "stream",
          "name": "stdout",
          "text": [
            "[1 2 3 4 5 6]\n"
          ]
        }
      ]
    },
    {
      "cell_type": "code",
      "source": [
        "#convert the above array into 2rows and 3 columns\n",
        "b=a.reshape(2,3)\n",
        "print(b)"
      ],
      "metadata": {
        "id": "zG6OpQefcecs"
      },
      "execution_count": null,
      "outputs": []
    },
    {
      "cell_type": "code",
      "source": [
        "#Newaxis:- it is used to create a newaxis in the data\n",
        "print(a.shape)"
      ],
      "metadata": {
        "id": "W3OSxvOAcrhi"
      },
      "execution_count": null,
      "outputs": []
    },
    {
      "cell_type": "code",
      "source": [
        "#newaxis\n",
        "d = a[np.newaxis,:]\n",
        "d\n",
        "d.shape\n",
        "d.T"
      ],
      "metadata": {
        "id": "PG3A6rgSdPsq"
      },
      "execution_count": null,
      "outputs": []
    },
    {
      "cell_type": "code",
      "source": [
        "e = a[:,np.newaxis]\n",
        "print(e)\n",
        "e.shape"
      ],
      "metadata": {
        "id": "7xR3LQUldkwN"
      },
      "execution_count": null,
      "outputs": []
    },
    {
      "cell_type": "code",
      "source": [
        "f = a.T\n",
        "print(f.shape)"
      ],
      "metadata": {
        "id": "R1r8qZAteQ1Y"
      },
      "execution_count": null,
      "outputs": []
    },
    {
      "cell_type": "code",
      "source": [
        "#why we are using np.newaxis?\n",
        "#needed when model requires the data to be shaped in a certain manner\n",
        "#Note:- Transpose can be applicable on 2d arrays"
      ],
      "metadata": {
        "id": "CgSyeah0d2Qo"
      },
      "execution_count": null,
      "outputs": []
    },
    {
      "cell_type": "markdown",
      "source": [
        "#Concatenation"
      ],
      "metadata": {
        "id": "1UxuTL38fr_b"
      }
    },
    {
      "cell_type": "code",
      "source": [
        "a = np.array([[1,2],[3,4]])\n",
        "b = np.array([[5,6]])\n",
        "#combine or concatenate the above 2 arrays in to 1d array\n",
        "c = np.concatenate((a,b),axis=None)\n",
        "print(c)"
      ],
      "metadata": {
        "colab": {
          "base_uri": "https://localhost:8080/"
        },
        "id": "aKITO6cmfvDQ",
        "outputId": "25fff42e-89c8-42ea-ced0-ade3040d400d"
      },
      "execution_count": null,
      "outputs": [
        {
          "output_type": "stream",
          "name": "stdout",
          "text": [
            "[1 2 3 4 5 6]\n"
          ]
        }
      ]
    },
    {
      "cell_type": "code",
      "source": [
        "#add new rows\n",
        "d = np.concatenate((a,b),axis=0)\n",
        "print(d)"
      ],
      "metadata": {
        "id": "yxBnZH5rgpCL"
      },
      "execution_count": null,
      "outputs": []
    },
    {
      "cell_type": "code",
      "source": [
        "print(b)\n",
        "print(b.T)"
      ],
      "metadata": {
        "id": "-R1kWwCShdXg"
      },
      "execution_count": null,
      "outputs": []
    },
    {
      "cell_type": "code",
      "source": [
        "#add new column:- Note that we have to transpose the array 'b'\n",
        "\n",
        "e = np.concatenate((a,b.T),axis=1)\n",
        "e"
      ],
      "metadata": {
        "id": "1HwOc40Ag1tU"
      },
      "execution_count": null,
      "outputs": []
    },
    {
      "cell_type": "code",
      "source": [
        "a = np.array([[1,2],[3,4]])\n",
        "b = np.array([[5,6],[7,8]])\n",
        "h = np.concatenate((a,b),axis=1)\n",
        "h\n",
        "#how can i print the values of the 1st row h\n",
        "print(h[0,:])\n",
        "print(h[0])"
      ],
      "metadata": {
        "id": "rGtFDqLPhz4k"
      },
      "execution_count": null,
      "outputs": []
    },
    {
      "cell_type": "markdown",
      "source": [
        "**Hstack**"
      ],
      "metadata": {
        "id": "Si9U7kNNjSAZ"
      }
    },
    {
      "cell_type": "code",
      "source": [
        "#hstack:- stack array in sequence horizentally(column wise)\n",
        "a = np.array([1,2,3,4])\n",
        "b = np.array([5,6,7,8])\n",
        "#c = np.concatenate((a,b),axis=None)\n",
        "c = np.hstack((a,b))\n",
        "print(c)"
      ],
      "metadata": {
        "colab": {
          "base_uri": "https://localhost:8080/"
        },
        "id": "ExR8vHoGjUCF",
        "outputId": "2fb039fd-412a-433b-c52a-2206e6137862"
      },
      "execution_count": null,
      "outputs": [
        {
          "output_type": "stream",
          "name": "stdout",
          "text": [
            "[1 2 3 4 5 6 7 8]\n"
          ]
        }
      ]
    },
    {
      "cell_type": "code",
      "source": [
        "a = np.array([[1,2],[3,4]])\n",
        "b = np.array([[5,6],[7,8]])\n",
        "d = np.hstack((a,b))\n",
        "d"
      ],
      "metadata": {
        "id": "-Ci6VGVikNbU"
      },
      "execution_count": null,
      "outputs": []
    },
    {
      "cell_type": "markdown",
      "source": [
        "**Vstack**"
      ],
      "metadata": {
        "id": "rZQlrPM8k4nd"
      }
    },
    {
      "cell_type": "code",
      "source": [
        "#vstack:- stack array's in sequence vertically(row wise)\n",
        "a = np.array([1,2,3,4])\n",
        "b = np.array([5,6,7,8])\n",
        "c= np.vstack((a,b))\n",
        "print(c)\n",
        "#Note:- when applying vstack on 1d array it converts the array in to 2d by default"
      ],
      "metadata": {
        "id": "XJQGZQ7mk7-j"
      },
      "execution_count": null,
      "outputs": []
    },
    {
      "cell_type": "code",
      "source": [
        "a = np.array([[1,2],[3,4]])\n",
        "b = np.array([[5,6],[7,8]])\n",
        "d = np.vstack((a,b))\n",
        "d"
      ],
      "metadata": {
        "id": "aGdt3mnxlkb-"
      },
      "execution_count": null,
      "outputs": []
    },
    {
      "cell_type": "markdown",
      "source": [
        "**Broadcasting**"
      ],
      "metadata": {
        "id": "pBhLzq2MmZn-"
      }
    },
    {
      "cell_type": "code",
      "source": [
        "x = np.array([[1,2,3],[4,5,6],[7,8,9],[10,11,12]])\n",
        "y = np.array([1,0,1])\n",
        "z = x+y\n",
        "print(x+y)\n",
        "\"\"\"Broadcasting isa powerfull mechanism that allows numpy to work with different\n",
        "arrays of different shapes when performing the arthametic operations\"\"\""
      ],
      "metadata": {
        "id": "v2OksECHmdRo"
      },
      "execution_count": null,
      "outputs": []
    },
    {
      "cell_type": "markdown",
      "source": [
        "**copying**"
      ],
      "metadata": {
        "id": "ZQcn8Sman5vJ"
      }
    },
    {
      "cell_type": "code",
      "source": [
        "a = np.array([1,2,3])\n",
        "b = a  #only copies the references\n",
        "b[0] = 42\n",
        "print(a)"
      ],
      "metadata": {
        "colab": {
          "base_uri": "https://localhost:8080/"
        },
        "id": "ZsKaaWt1np9V",
        "outputId": "76477b73-09b0-4197-b78d-fbb30f4641cd"
      },
      "execution_count": null,
      "outputs": [
        {
          "output_type": "stream",
          "name": "stdout",
          "text": [
            "[42  2  3]\n"
          ]
        }
      ]
    },
    {
      "cell_type": "code",
      "source": [
        "a = np.array([1,2,3])\n",
        "b = a.copy()  #actual copy\n",
        "b[0]= 6\n",
        "print(a)\n",
        "print(b)\n",
        "#using copy() if you make any changes in the new array the old array doesn't changes"
      ],
      "metadata": {
        "id": "2uKz7s8boQKk"
      },
      "execution_count": null,
      "outputs": []
    },
    {
      "cell_type": "markdown",
      "source": [
        "**Data Types**"
      ],
      "metadata": {
        "id": "5HIhoBZ8pZuT"
      }
    },
    {
      "cell_type": "code",
      "source": [
        "#how can we find thye data type of an array\n",
        "a = np.array([1,2,3],dtype=np.int32)\n",
        "a.dtype"
      ],
      "metadata": {
        "colab": {
          "base_uri": "https://localhost:8080/"
        },
        "id": "Ktn_AtObo_sj",
        "outputId": "4cd5bb4d-2943-472d-dfce-dd94e8441ceb"
      },
      "execution_count": null,
      "outputs": [
        {
          "output_type": "execute_result",
          "data": {
            "text/plain": [
              "dtype('int32')"
            ]
          },
          "metadata": {},
          "execution_count": 40
        }
      ]
    },
    {
      "cell_type": "code",
      "source": [
        "b = np.array([1.0,2.0],dtype=np.float32)\n",
        "b.dtype"
      ],
      "metadata": {
        "colab": {
          "base_uri": "https://localhost:8080/"
        },
        "id": "GjiCBN7Qp6_4",
        "outputId": "ea9f80cf-9d38-4840-caae-f348521d0810"
      },
      "execution_count": null,
      "outputs": [
        {
          "output_type": "execute_result",
          "data": {
            "text/plain": [
              "dtype('float32')"
            ]
          },
          "metadata": {},
          "execution_count": 42
        }
      ]
    },
    {
      "cell_type": "markdown",
      "source": [
        "**Generating Arrays**"
      ],
      "metadata": {
        "id": "Eb82ZoDpqPGe"
      }
    },
    {
      "cell_type": "code",
      "source": [
        "#genrate an array of zeros which is having 2 rows and 3 cols\n",
        "a = np.zeros((2,3)) #size it as a tuple\n",
        "print(a)"
      ],
      "metadata": {
        "id": "yY-zpKXOqTdi"
      },
      "execution_count": null,
      "outputs": []
    },
    {
      "cell_type": "code",
      "source": [
        "#genrate an array of ones which is having 2 rows and 3 cols\n",
        "b = np.ones((2,3))\n",
        "print(b)\n"
      ],
      "metadata": {
        "id": "UNiJZf6tqkjS"
      },
      "execution_count": null,
      "outputs": []
    },
    {
      "cell_type": "code",
      "source": [
        "#generate an array of specific value with specific rows and cols\n",
        "c = np.full((3,3),5.0)\n",
        "print(c)"
      ],
      "metadata": {
        "id": "_id19eLJqvhW"
      },
      "execution_count": null,
      "outputs": []
    },
    {
      "cell_type": "code",
      "source": [
        "#genarate an identity matrix\n",
        "d = np.eye(3)\n",
        "print(d)"
      ],
      "metadata": {
        "id": "_Ecbf5PorF7S"
      },
      "execution_count": null,
      "outputs": []
    },
    {
      "cell_type": "code",
      "source": [
        "#arange of up to 9\n",
        "e = np.arange(10)\n",
        "print(e)"
      ],
      "metadata": {
        "colab": {
          "base_uri": "https://localhost:8080/"
        },
        "id": "Ufceq8gJrYnt",
        "outputId": "f558d1eb-6959-4b45-cd5d-40a3fa49d1de"
      },
      "execution_count": null,
      "outputs": [
        {
          "output_type": "stream",
          "name": "stdout",
          "text": [
            "[0 1 2 3 4 5 6 7 8 9]\n"
          ]
        }
      ]
    },
    {
      "cell_type": "code",
      "source": [
        "#linspace:- splits the data into specific parts equally\n",
        "h = np.linspace(0,10,6)\n",
        "#linspace(start,end,no. of partititons)\n",
        "print(h)"
      ],
      "metadata": {
        "colab": {
          "base_uri": "https://localhost:8080/"
        },
        "id": "CA6rOfitrpZF",
        "outputId": "83357df4-e901-4ea8-9067-4fc08db9c044"
      },
      "execution_count": null,
      "outputs": [
        {
          "output_type": "stream",
          "name": "stdout",
          "text": [
            "[ 0.  2.  4.  6.  8. 10.]\n"
          ]
        }
      ]
    },
    {
      "cell_type": "markdown",
      "source": [
        "26-11-2024\n",
        "\n",
        "**Random Numbers**"
      ],
      "metadata": {
        "id": "sIlrIMwokd4j"
      }
    },
    {
      "cell_type": "code",
      "source": [
        "import numpy as np"
      ],
      "metadata": {
        "id": "MA8PjsV3kf6g"
      },
      "execution_count": null,
      "outputs": []
    },
    {
      "cell_type": "code",
      "source": [
        "#generate random numbers uniformily distributed from 0-1\n",
        "a = np.random.random((3,2))\n",
        "print(a)"
      ],
      "metadata": {
        "colab": {
          "base_uri": "https://localhost:8080/"
        },
        "id": "J2_3HRTbmbfj",
        "outputId": "5764a42b-4211-4105-81d8-7d285cb08d19"
      },
      "execution_count": null,
      "outputs": [
        {
          "output_type": "stream",
          "name": "stdout",
          "text": [
            "[[0.95304056 0.07460665]\n",
            " [0.35581082 0.47282   ]\n",
            " [0.61384537 0.13958679]]\n"
          ]
        }
      ]
    },
    {
      "cell_type": "code",
      "source": [
        "#generate an array which is normally distributed or gussian distribution where mean is zero and varience is 1\n",
        "s = np.random.randn(3,2)\n",
        "print(s)\n",
        "#Note:no tuple as a shape, each dimension is a argument"
      ],
      "metadata": {
        "id": "zfu0Ln7jnBhO"
      },
      "execution_count": null,
      "outputs": []
    },
    {
      "cell_type": "code",
      "source": [
        "#generate random.randn numbers upto 10000 and find mean varaience and std\n",
        "h = np.random.randn(10000)\n",
        "print(h.mean(),h.var(),h.std())"
      ],
      "metadata": {
        "colab": {
          "base_uri": "https://localhost:8080/"
        },
        "id": "M5iWBjFon7wy",
        "outputId": "15f933fa-1632-408c-d902-9196fd2363f7"
      },
      "execution_count": null,
      "outputs": [
        {
          "output_type": "stream",
          "name": "stdout",
          "text": [
            "-0.007477460464284738 0.990865482664875 0.9954222634966906\n"
          ]
        }
      ]
    },
    {
      "cell_type": "code",
      "source": [
        "#generate an random integers\n",
        "a = np.random.randint(3,10,size=(3,3))\n",
        "print(a)"
      ],
      "metadata": {
        "id": "4u3wcgyfokVD"
      },
      "execution_count": null,
      "outputs": []
    },
    {
      "cell_type": "code",
      "source": [
        "#generate an random integers from 10 to 20 in the size of 4*4\n",
        "h = np.random.randint(10, size = (10))\n",
        "print(h)"
      ],
      "metadata": {
        "id": "LIGg7cBApDNC"
      },
      "execution_count": null,
      "outputs": []
    },
    {
      "cell_type": "code",
      "source": [
        "#genrate a number up to 6 and divided in to size of 10\n",
        "u = np.random.choice(7,size=10)\n",
        "print(u)"
      ],
      "metadata": {
        "id": "cKQb3tCgprnQ"
      },
      "execution_count": null,
      "outputs": []
    },
    {
      "cell_type": "code",
      "source": [
        "l = np.random.choice([1,2,3,4],size=10)\n",
        "print(l)"
      ],
      "metadata": {
        "id": "Z0Mig1bYqewY"
      },
      "execution_count": null,
      "outputs": []
    },
    {
      "cell_type": "markdown",
      "source": [
        "**Linear Algebra**"
      ],
      "metadata": {
        "id": "t8K9YwAsrYR5"
      }
    },
    {
      "cell_type": "code",
      "source": [
        "a = np.array([[1,2],[3,4]])\n",
        "eigenvalues, eigenvectors = np.linalg.eig(a)\n",
        "print(eigenvalues)\n",
        "print(eigenvectors)"
      ],
      "metadata": {
        "colab": {
          "base_uri": "https://localhost:8080/"
        },
        "id": "Jy6JJ4jrrcLW",
        "outputId": "d0018278-090a-4039-e2e0-d40d8a20eab9"
      },
      "execution_count": null,
      "outputs": [
        {
          "output_type": "stream",
          "name": "stdout",
          "text": [
            "[-0.37228132  5.37228132]\n",
            "[[-0.82456484 -0.41597356]\n",
            " [ 0.56576746 -0.90937671]]\n"
          ]
        }
      ]
    },
    {
      "cell_type": "code",
      "source": [
        "#how can we verify this eigenvalues and eigen vectors\n",
        "#verify -->     e-vec*e-val = a * e-vec\n",
        "d = eigenvectors[:,0] * eigenvalues[0]\n",
        "e = a @ eigenvectors[:,0]\n",
        "print(d,e)"
      ],
      "metadata": {
        "id": "eZDwWvdVrc1e",
        "colab": {
          "base_uri": "https://localhost:8080/"
        },
        "outputId": "7d3d7980-ee5d-4730-e635-0c7c50f20228"
      },
      "execution_count": null,
      "outputs": [
        {
          "output_type": "stream",
          "name": "stdout",
          "text": [
            "[ 0.30697009 -0.21062466] [ 0.30697009 -0.21062466]\n"
          ]
        }
      ]
    },
    {
      "cell_type": "code",
      "source": [
        "print(np.allclose(d,e)) #command to compare the matrix"
      ],
      "metadata": {
        "id": "QjmYdGOcrdXb",
        "colab": {
          "base_uri": "https://localhost:8080/"
        },
        "outputId": "3ae2b3d2-4a52-4d08-9d9f-891084745253"
      },
      "execution_count": null,
      "outputs": [
        {
          "output_type": "stream",
          "name": "stdout",
          "text": [
            "True\n"
          ]
        }
      ]
    },
    {
      "cell_type": "markdown",
      "source": [
        "**solving linear systems**"
      ],
      "metadata": {
        "id": "5Fi5sVXivpQX"
      }
    },
    {
      "cell_type": "code",
      "source": [
        "# x1 +x2 = 2200\n",
        "# 1.5 x1 + 4x2 = 5050\n",
        "a = np.array([[1,1],[1.5,4]])\n",
        "b = np.array([2200,5050])\n",
        "# AX = B  <=> x = A**-1 B\n",
        "X = np.linalg.inv(a).dot(b)\n",
        "print(X)\n"
      ],
      "metadata": {
        "colab": {
          "base_uri": "https://localhost:8080/"
        },
        "id": "N7iX9VjOvt_T",
        "outputId": "654c4d44-431e-4094-85d4-36ea2f4ab4b8"
      },
      "execution_count": null,
      "outputs": [
        {
          "output_type": "stream",
          "name": "stdout",
          "text": [
            "[1500.  700.]\n"
          ]
        }
      ]
    },
    {
      "cell_type": "code",
      "source": [
        "#instead use below method\n",
        "x = np.linalg.solve(a,b)\n",
        "print(x)"
      ],
      "metadata": {
        "colab": {
          "base_uri": "https://localhost:8080/"
        },
        "id": "HSw3iiMIw1xA",
        "outputId": "d2666bc1-a3df-4828-eef7-0184c4e17ad3"
      },
      "execution_count": null,
      "outputs": [
        {
          "output_type": "stream",
          "name": "stdout",
          "text": [
            "[1500.  700.]\n"
          ]
        }
      ]
    },
    {
      "cell_type": "markdown",
      "source": [
        "**Loading a CSV by using Numpy**"
      ],
      "metadata": {
        "id": "m_jpKSJ7xTib"
      }
    },
    {
      "cell_type": "code",
      "source": [
        "#1.load with \"\"np.loadtxt()\"\"\n",
        "data = np.loadtxt('/content/sample_data/california_housing_train.csv',delimiter=\",\",dtype=np.float32)"
      ],
      "metadata": {
        "id": "2KXOZXlExnkO"
      },
      "execution_count": null,
      "outputs": []
    },
    {
      "cell_type": "code",
      "source": [
        "#2. load with \"np.genfromtxt()\""
      ],
      "metadata": {
        "id": "69lxR7GyytmW"
      },
      "execution_count": null,
      "outputs": []
    },
    {
      "cell_type": "code",
      "source": [
        "#random Numbers\n",
        "#Linear algebra\n",
        "#solving the linear systems\n",
        "#load a csv file numpy"
      ],
      "metadata": {
        "id": "afHY0WYLsBLh"
      },
      "execution_count": null,
      "outputs": []
    },
    {
      "cell_type": "code",
      "source": [
        "#How to check the Numpy array or explore an array?\n",
        "\"\"\" np.shape\n",
        "    np.ndim\n",
        "    np.size--> no. of elements in the array\n",
        "    np.dtype--> finds the data types of each element in array\n",
        "    np.itemsize\"\"\"\n",
        "#what is 1d,2d,3d array's?\n",
        "#what is the difference between list and array?\n",
        "#slicing operations with 1d array?\n",
        "#how to generate 2d array and slicing operation with 2d array\n",
        "#reshaping of an array\n",
        "#how to genrate a range of array\n",
        "#copying and its advantage\n",
        "#genrative array\n",
        "#boolean indexing\n",
        "#random array's"
      ],
      "metadata": {
        "id": "An-xWXTMy--L"
      },
      "execution_count": null,
      "outputs": []
    }
  ]
}